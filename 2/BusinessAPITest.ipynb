{
 "cells": [
  {
   "cell_type": "code",
   "execution_count": 1,
   "id": "a45b543b",
   "metadata": {},
   "outputs": [],
   "source": [
    "import requests\n",
    "import pandas as pd\n",
    "import matplotlib as plt"
   ]
  },
  {
   "cell_type": "code",
   "execution_count": 2,
   "metadata": {},
   "outputs": [],
   "source": [
    "pd.options.display.max_columns = None"
   ]
  },
  {
   "cell_type": "code",
   "execution_count": 3,
   "metadata": {},
   "outputs": [],
   "source": [
    "df = pd.read_csv('api.csv')\n",
    "key = df['API'].iloc[0]"
   ]
  },
  {
   "cell_type": "code",
   "execution_count": 4,
   "metadata": {},
   "outputs": [],
   "source": [
    "#converts the api json format into a more readable DataFrame\n",
    "def json_to_pd(url):\n",
    "    return pd.DataFrame(pd.DataFrame(r.json()[1:], columns = r.json()[0]))"
   ]
  },
  {
   "cell_type": "code",
   "execution_count": 5,
   "metadata": {},
   "outputs": [],
   "source": [
    "url = f'https://api.census.gov/data/2018/abscs?get=NAME,SEX,ETH_GROUP,EMP,PAYANN,RACE_GROUP,VET_GROUP,FIRMPDEMP,RCPPDEMP&for=state:*&NAICS2017=00&key={key}'"
   ]
  },
  {
   "cell_type": "code",
   "execution_count": 6,
   "metadata": {},
   "outputs": [],
   "source": [
    "r = requests.get(url)"
   ]
  },
  {
   "cell_type": "code",
   "execution_count": 7,
   "metadata": {},
   "outputs": [
    {
     "output_type": "execute_result",
     "data": {
      "text/plain": [
       "             NAME  SEX ETH_GROUP      EMP    PAYANN RACE_GROUP VET_GROUP  \\\n",
       "0     Mississippi  002       029        0         0         00       003   \n",
       "1     Mississippi  003       029     7463    248480         00       003   \n",
       "2     Mississippi  004       029     4307    103801         00       003   \n",
       "3     Mississippi  001       001    11422    346310         30       003   \n",
       "4     Mississippi  096       096   502962  16380166         96       096   \n",
       "...           ...  ...       ...      ...       ...        ...       ...   \n",
       "9663    Minnesota  002       029        0         0         00       003   \n",
       "9664    Minnesota  003       029     8311    429456         00       003   \n",
       "9665    Minnesota  004       029        0         0         00       003   \n",
       "9666    Minnesota  001       001        0         0         30       003   \n",
       "9667    Minnesota  096       096  1243711  52997220         96       096   \n",
       "\n",
       "     FIRMPDEMP RCPPDEMP NAICS2017 state  \n",
       "0            0        0        00    28  \n",
       "1          466        0        00    28  \n",
       "2          572        0        00    28  \n",
       "3          926        0        00    28  \n",
       "4        37489        0        00    28  \n",
       "...        ...      ...       ...   ...  \n",
       "9663         0        0        00    27  \n",
       "9664       941        0        00    27  \n",
       "9665         0        0        00    27  \n",
       "9666         0        0        00    27  \n",
       "9667    105997        0        00    27  \n",
       "\n",
       "[9668 rows x 11 columns]"
      ],
      "text/html": "<div>\n<style scoped>\n    .dataframe tbody tr th:only-of-type {\n        vertical-align: middle;\n    }\n\n    .dataframe tbody tr th {\n        vertical-align: top;\n    }\n\n    .dataframe thead th {\n        text-align: right;\n    }\n</style>\n<table border=\"1\" class=\"dataframe\">\n  <thead>\n    <tr style=\"text-align: right;\">\n      <th></th>\n      <th>NAME</th>\n      <th>SEX</th>\n      <th>ETH_GROUP</th>\n      <th>EMP</th>\n      <th>PAYANN</th>\n      <th>RACE_GROUP</th>\n      <th>VET_GROUP</th>\n      <th>FIRMPDEMP</th>\n      <th>RCPPDEMP</th>\n      <th>NAICS2017</th>\n      <th>state</th>\n    </tr>\n  </thead>\n  <tbody>\n    <tr>\n      <th>0</th>\n      <td>Mississippi</td>\n      <td>002</td>\n      <td>029</td>\n      <td>0</td>\n      <td>0</td>\n      <td>00</td>\n      <td>003</td>\n      <td>0</td>\n      <td>0</td>\n      <td>00</td>\n      <td>28</td>\n    </tr>\n    <tr>\n      <th>1</th>\n      <td>Mississippi</td>\n      <td>003</td>\n      <td>029</td>\n      <td>7463</td>\n      <td>248480</td>\n      <td>00</td>\n      <td>003</td>\n      <td>466</td>\n      <td>0</td>\n      <td>00</td>\n      <td>28</td>\n    </tr>\n    <tr>\n      <th>2</th>\n      <td>Mississippi</td>\n      <td>004</td>\n      <td>029</td>\n      <td>4307</td>\n      <td>103801</td>\n      <td>00</td>\n      <td>003</td>\n      <td>572</td>\n      <td>0</td>\n      <td>00</td>\n      <td>28</td>\n    </tr>\n    <tr>\n      <th>3</th>\n      <td>Mississippi</td>\n      <td>001</td>\n      <td>001</td>\n      <td>11422</td>\n      <td>346310</td>\n      <td>30</td>\n      <td>003</td>\n      <td>926</td>\n      <td>0</td>\n      <td>00</td>\n      <td>28</td>\n    </tr>\n    <tr>\n      <th>4</th>\n      <td>Mississippi</td>\n      <td>096</td>\n      <td>096</td>\n      <td>502962</td>\n      <td>16380166</td>\n      <td>96</td>\n      <td>096</td>\n      <td>37489</td>\n      <td>0</td>\n      <td>00</td>\n      <td>28</td>\n    </tr>\n    <tr>\n      <th>...</th>\n      <td>...</td>\n      <td>...</td>\n      <td>...</td>\n      <td>...</td>\n      <td>...</td>\n      <td>...</td>\n      <td>...</td>\n      <td>...</td>\n      <td>...</td>\n      <td>...</td>\n      <td>...</td>\n    </tr>\n    <tr>\n      <th>9663</th>\n      <td>Minnesota</td>\n      <td>002</td>\n      <td>029</td>\n      <td>0</td>\n      <td>0</td>\n      <td>00</td>\n      <td>003</td>\n      <td>0</td>\n      <td>0</td>\n      <td>00</td>\n      <td>27</td>\n    </tr>\n    <tr>\n      <th>9664</th>\n      <td>Minnesota</td>\n      <td>003</td>\n      <td>029</td>\n      <td>8311</td>\n      <td>429456</td>\n      <td>00</td>\n      <td>003</td>\n      <td>941</td>\n      <td>0</td>\n      <td>00</td>\n      <td>27</td>\n    </tr>\n    <tr>\n      <th>9665</th>\n      <td>Minnesota</td>\n      <td>004</td>\n      <td>029</td>\n      <td>0</td>\n      <td>0</td>\n      <td>00</td>\n      <td>003</td>\n      <td>0</td>\n      <td>0</td>\n      <td>00</td>\n      <td>27</td>\n    </tr>\n    <tr>\n      <th>9666</th>\n      <td>Minnesota</td>\n      <td>001</td>\n      <td>001</td>\n      <td>0</td>\n      <td>0</td>\n      <td>30</td>\n      <td>003</td>\n      <td>0</td>\n      <td>0</td>\n      <td>00</td>\n      <td>27</td>\n    </tr>\n    <tr>\n      <th>9667</th>\n      <td>Minnesota</td>\n      <td>096</td>\n      <td>096</td>\n      <td>1243711</td>\n      <td>52997220</td>\n      <td>96</td>\n      <td>096</td>\n      <td>105997</td>\n      <td>0</td>\n      <td>00</td>\n      <td>27</td>\n    </tr>\n  </tbody>\n</table>\n<p>9668 rows × 11 columns</p>\n</div>"
     },
     "metadata": {},
     "execution_count": 7
    }
   ],
   "source": [
    "test = json_to_pd(url)\n",
    "test"
   ]
  },
  {
   "cell_type": "code",
   "execution_count": 8,
   "metadata": {},
   "outputs": [
    {
     "output_type": "stream",
     "name": "stdout",
     "text": [
      "0    9668\nName: RCPPDEMP, dtype: int64\n0           4499\n59532          4\n14285          4\n1568           4\n139752         4\n            ... \n23317500       1\n15426306       1\n11246381       1\n6219668        1\n89601          1\nName: PAYANN, Length: 4836, dtype: int64\n"
     ]
    }
   ],
   "source": [
    "print(test['RCPPDEMP'].value_counts())\n",
    "print(test['PAYANN'].value_counts())"
   ]
  }
 ],
 "metadata": {
  "kernelspec": {
   "name": "python3",
   "display_name": "Python 3.8.8 64-bit ('base': conda)"
  },
  "language_info": {
   "codemirror_mode": {
    "name": "ipython",
    "version": 3
   },
   "file_extension": ".py",
   "mimetype": "text/x-python",
   "name": "python",
   "nbconvert_exporter": "python",
   "pygments_lexer": "ipython3",
   "version": "3.8.8"
  },
  "interpreter": {
   "hash": "b6c1d3a4e2bd666701f3a227fd39bc9bba1635aa3aabc36e8933c6cc85f707a7"
  }
 },
 "nbformat": 4,
 "nbformat_minor": 5
}
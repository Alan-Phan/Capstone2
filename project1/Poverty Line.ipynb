{
 "cells": [
  {
   "cell_type": "code",
   "execution_count": 2,
   "id": "cf1fac49",
   "metadata": {},
   "outputs": [],
   "source": [
    "import requests\n",
    "import matplotlib as plt\n",
    "import pandas as pd"
   ]
  },
  {
   "cell_type": "code",
   "execution_count": 36,
   "id": "3094f0a1",
   "metadata": {},
   "outputs": [],
   "source": [
    "key = pd.read_csv(\"KEY.csv\")\n",
    "govkey = key.loc[0][0]\n",
    "time = [2010, 2011, 2012, 2013, 2014, 2015, 2016]"
   ]
  },
  {
   "cell_type": "code",
   "execution_count": 43,
   "id": "900d231f",
   "metadata": {},
   "outputs": [],
   "source": [
    "url = f\"https://api.census.gov/data/timeseries/poverty/saipe/schdist?get=GEOCAT,GEOID,GRADE,SD_NAME,SAEPOVALL_PT&for=school%20district%20(unified):*&time=2019&key={govkey}\""
   ]
  },
  {
   "cell_type": "code",
   "execution_count": 44,
   "metadata": {},
   "outputs": [],
   "source": [
    "r = requests.get(url)"
   ]
  },
  {
   "cell_type": "code",
   "execution_count": 45,
   "metadata": {},
   "outputs": [],
   "source": [
    "df = pd.DataFrame(r.json()[1:], columns = r.json()[0])"
   ]
  },
  {
   "cell_type": "code",
   "execution_count": 46,
   "metadata": {},
   "outputs": [
    {
     "output_type": "execute_result",
     "data": {
      "text/plain": [
       "Index(['GEOCAT', 'GEOID', 'GRADE', 'SD_NAME', 'SAEPOVALL_PT', 'time', 'state',\n",
       "       'school district (unified)'],\n",
       "      dtype='object')"
      ]
     },
     "metadata": {},
     "execution_count": 46
    }
   ],
   "source": [
    "df.columns"
   ]
  },
  {
   "cell_type": "code",
   "execution_count": 47,
   "metadata": {},
   "outputs": [
    {
     "output_type": "execute_result",
     "data": {
      "text/plain": [
       "PK-12    7951\n",
       "KG-12    2899\n",
       "Name: GRADE, dtype: int64"
      ]
     },
     "metadata": {},
     "execution_count": 47
    }
   ],
   "source": [
    "df['GRADE'].value_counts()"
   ]
  },
  {
   "cell_type": "code",
   "execution_count": 48,
   "metadata": {},
   "outputs": [
    {
     "output_type": "execute_result",
     "data": {
      "text/plain": [
       "      GEOCAT    GEOID  GRADE                            SD_NAME SAEPOVALL_PT  \\\n",
       "0        970  0100001  KG-12        Fort Rucker School District         4547   \n",
       "1        970  0100003  KG-12        Maxwell AFB School District         2482   \n",
       "2        970  0100005  KG-12   Albertville City School District        22051   \n",
       "3        970  0100006  PK-12    Marshall County School District        49087   \n",
       "4        970  0100007  KG-12        Hoover City School District        83044   \n",
       "...      ...      ...    ...                                ...          ...   \n",
       "10845    970  5605820  KG-12  Washakie County School District 2          670   \n",
       "10846    970  5605830  KG-12     Teton County School District 1        23464   \n",
       "10847    970  5606090  KG-12    Weston County School District 7         1462   \n",
       "10848    970  5606240  KG-12  Washakie County School District 1         7135   \n",
       "10849    970  7200030  KG-12                        Puerto Rico      3193694   \n",
       "\n",
       "       time state school district (unified)  \n",
       "0      2019    01                     00001  \n",
       "1      2019    01                     00003  \n",
       "2      2019    01                     00005  \n",
       "3      2019    01                     00006  \n",
       "4      2019    01                     00007  \n",
       "...     ...   ...                       ...  \n",
       "10845  2019    56                     05820  \n",
       "10846  2019    56                     05830  \n",
       "10847  2019    56                     06090  \n",
       "10848  2019    56                     06240  \n",
       "10849  2019    72                     00030  \n",
       "\n",
       "[10850 rows x 8 columns]"
      ],
      "text/html": "<div>\n<style scoped>\n    .dataframe tbody tr th:only-of-type {\n        vertical-align: middle;\n    }\n\n    .dataframe tbody tr th {\n        vertical-align: top;\n    }\n\n    .dataframe thead th {\n        text-align: right;\n    }\n</style>\n<table border=\"1\" class=\"dataframe\">\n  <thead>\n    <tr style=\"text-align: right;\">\n      <th></th>\n      <th>GEOCAT</th>\n      <th>GEOID</th>\n      <th>GRADE</th>\n      <th>SD_NAME</th>\n      <th>SAEPOVALL_PT</th>\n      <th>time</th>\n      <th>state</th>\n      <th>school district (unified)</th>\n    </tr>\n  </thead>\n  <tbody>\n    <tr>\n      <th>0</th>\n      <td>970</td>\n      <td>0100001</td>\n      <td>KG-12</td>\n      <td>Fort Rucker School District</td>\n      <td>4547</td>\n      <td>2019</td>\n      <td>01</td>\n      <td>00001</td>\n    </tr>\n    <tr>\n      <th>1</th>\n      <td>970</td>\n      <td>0100003</td>\n      <td>KG-12</td>\n      <td>Maxwell AFB School District</td>\n      <td>2482</td>\n      <td>2019</td>\n      <td>01</td>\n      <td>00003</td>\n    </tr>\n    <tr>\n      <th>2</th>\n      <td>970</td>\n      <td>0100005</td>\n      <td>KG-12</td>\n      <td>Albertville City School District</td>\n      <td>22051</td>\n      <td>2019</td>\n      <td>01</td>\n      <td>00005</td>\n    </tr>\n    <tr>\n      <th>3</th>\n      <td>970</td>\n      <td>0100006</td>\n      <td>PK-12</td>\n      <td>Marshall County School District</td>\n      <td>49087</td>\n      <td>2019</td>\n      <td>01</td>\n      <td>00006</td>\n    </tr>\n    <tr>\n      <th>4</th>\n      <td>970</td>\n      <td>0100007</td>\n      <td>KG-12</td>\n      <td>Hoover City School District</td>\n      <td>83044</td>\n      <td>2019</td>\n      <td>01</td>\n      <td>00007</td>\n    </tr>\n    <tr>\n      <th>...</th>\n      <td>...</td>\n      <td>...</td>\n      <td>...</td>\n      <td>...</td>\n      <td>...</td>\n      <td>...</td>\n      <td>...</td>\n      <td>...</td>\n    </tr>\n    <tr>\n      <th>10845</th>\n      <td>970</td>\n      <td>5605820</td>\n      <td>KG-12</td>\n      <td>Washakie County School District 2</td>\n      <td>670</td>\n      <td>2019</td>\n      <td>56</td>\n      <td>05820</td>\n    </tr>\n    <tr>\n      <th>10846</th>\n      <td>970</td>\n      <td>5605830</td>\n      <td>KG-12</td>\n      <td>Teton County School District 1</td>\n      <td>23464</td>\n      <td>2019</td>\n      <td>56</td>\n      <td>05830</td>\n    </tr>\n    <tr>\n      <th>10847</th>\n      <td>970</td>\n      <td>5606090</td>\n      <td>KG-12</td>\n      <td>Weston County School District 7</td>\n      <td>1462</td>\n      <td>2019</td>\n      <td>56</td>\n      <td>06090</td>\n    </tr>\n    <tr>\n      <th>10848</th>\n      <td>970</td>\n      <td>5606240</td>\n      <td>KG-12</td>\n      <td>Washakie County School District 1</td>\n      <td>7135</td>\n      <td>2019</td>\n      <td>56</td>\n      <td>06240</td>\n    </tr>\n    <tr>\n      <th>10849</th>\n      <td>970</td>\n      <td>7200030</td>\n      <td>KG-12</td>\n      <td>Puerto Rico</td>\n      <td>3193694</td>\n      <td>2019</td>\n      <td>72</td>\n      <td>00030</td>\n    </tr>\n  </tbody>\n</table>\n<p>10850 rows × 8 columns</p>\n</div>"
     },
     "metadata": {},
     "execution_count": 48
    }
   ],
   "source": [
    "df"
   ]
  }
 ],
 "metadata": {
  "kernelspec": {
   "name": "python3",
   "display_name": "Python 3.8.10 64-bit ('base': conda)"
  },
  "language_info": {
   "codemirror_mode": {
    "name": "ipython",
    "version": 3
   },
   "file_extension": ".py",
   "mimetype": "text/x-python",
   "name": "python",
   "nbconvert_exporter": "python",
   "pygments_lexer": "ipython3",
   "version": "3.8.10"
  },
  "interpreter": {
   "hash": "8cb38971262451ced22e8492f7ba77d3e9dcd86f384dc5914ad1c25ee017ef3e"
  }
 },
 "nbformat": 4,
 "nbformat_minor": 5
}